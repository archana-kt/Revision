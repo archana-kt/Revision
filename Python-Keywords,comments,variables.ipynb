{
 "cells": [
  {
   "cell_type": "markdown",
   "id": "aeee1957",
   "metadata": {},
   "source": [
    "# <font color='red'> Python keywords"
   ]
  },
  {
   "cell_type": "code",
   "execution_count": 1,
   "id": "580001bb",
   "metadata": {},
   "outputs": [],
   "source": [
    "# Keywords are predefined, reserved words used in Python programming "
   ]
  },
  {
   "cell_type": "code",
   "execution_count": 2,
   "id": "7f7f2f3c",
   "metadata": {},
   "outputs": [],
   "source": [
    "# We cannot use a keyword as a variable name, function name"
   ]
  },
  {
   "cell_type": "code",
   "execution_count": 3,
   "id": "05564d6e",
   "metadata": {},
   "outputs": [],
   "source": [
    "# All the keywords except True, False and None are in lowercase"
   ]
  },
  {
   "cell_type": "code",
   "execution_count": 4,
   "id": "64b5e61e",
   "metadata": {},
   "outputs": [],
   "source": [
    "import keyword"
   ]
  },
  {
   "cell_type": "code",
   "execution_count": 5,
   "id": "5a748bd6",
   "metadata": {},
   "outputs": [
    {
     "name": "stdout",
     "output_type": "stream",
     "text": [
      "['False', 'None', 'True', '__peg_parser__', 'and', 'as', 'assert', 'async', 'await', 'break', 'class', 'continue', 'def', 'del', 'elif', 'else', 'except', 'finally', 'for', 'from', 'global', 'if', 'import', 'in', 'is', 'lambda', 'nonlocal', 'not', 'or', 'pass', 'raise', 'return', 'try', 'while', 'with', 'yield']\n"
     ]
    }
   ],
   "source": [
    "print(keyword.kwlist)"
   ]
  },
  {
   "cell_type": "markdown",
   "id": "ccd9d381",
   "metadata": {},
   "source": [
    "## Description of Keywords in Python with examples"
   ]
  },
  {
   "cell_type": "markdown",
   "id": "23d5d00e",
   "metadata": {},
   "source": [
    "# True False"
   ]
  },
  {
   "cell_type": "code",
   "execution_count": 6,
   "id": "4d0839fb",
   "metadata": {},
   "outputs": [
    {
     "data": {
      "text/plain": [
       "True"
      ]
     },
     "execution_count": 6,
     "metadata": {},
     "output_type": "execute_result"
    }
   ],
   "source": [
    "1 == 1"
   ]
  },
  {
   "cell_type": "code",
   "execution_count": 7,
   "id": "2f0d084b",
   "metadata": {},
   "outputs": [
    {
     "data": {
      "text/plain": [
       "False"
      ]
     },
     "execution_count": 7,
     "metadata": {},
     "output_type": "execute_result"
    }
   ],
   "source": [
    "5 != 5"
   ]
  },
  {
   "cell_type": "code",
   "execution_count": 8,
   "id": "0cde9720",
   "metadata": {},
   "outputs": [
    {
     "data": {
      "text/plain": [
       "False"
      ]
     },
     "execution_count": 8,
     "metadata": {},
     "output_type": "execute_result"
    }
   ],
   "source": [
    "10 <= 5"
   ]
  },
  {
   "cell_type": "code",
   "execution_count": 9,
   "id": "2fe7894a",
   "metadata": {},
   "outputs": [
    {
     "data": {
      "text/plain": [
       "False"
      ]
     },
     "execution_count": 9,
     "metadata": {},
     "output_type": "execute_result"
    }
   ],
   "source": [
    "True and False # 1*0 = 0"
   ]
  },
  {
   "cell_type": "code",
   "execution_count": 10,
   "id": "6f702e19",
   "metadata": {},
   "outputs": [
    {
     "data": {
      "text/plain": [
       "True"
      ]
     },
     "execution_count": 10,
     "metadata": {},
     "output_type": "execute_result"
    }
   ],
   "source": [
    "True == 1"
   ]
  },
  {
   "cell_type": "code",
   "execution_count": 11,
   "id": "a48f274c",
   "metadata": {},
   "outputs": [
    {
     "data": {
      "text/plain": [
       "True"
      ]
     },
     "execution_count": 11,
     "metadata": {},
     "output_type": "execute_result"
    }
   ],
   "source": [
    "False == 0"
   ]
  },
  {
   "cell_type": "markdown",
   "id": "80712e38",
   "metadata": {},
   "source": [
    "# None"
   ]
  },
  {
   "cell_type": "raw",
   "id": "8e05ffdd",
   "metadata": {},
   "source": [
    "None is a special constant in Python that represents the absence of a value or a null value."
   ]
  },
  {
   "cell_type": "code",
   "execution_count": 12,
   "id": "7a8be0a9",
   "metadata": {},
   "outputs": [
    {
     "data": {
      "text/plain": [
       "False"
      ]
     },
     "execution_count": 12,
     "metadata": {},
     "output_type": "execute_result"
    }
   ],
   "source": [
    "None == 0"
   ]
  },
  {
   "cell_type": "code",
   "execution_count": 13,
   "id": "0f21f2bf",
   "metadata": {},
   "outputs": [
    {
     "data": {
      "text/plain": [
       "False"
      ]
     },
     "execution_count": 13,
     "metadata": {},
     "output_type": "execute_result"
    }
   ],
   "source": [
    "None == []"
   ]
  },
  {
   "cell_type": "code",
   "execution_count": 14,
   "id": "877fd0d4",
   "metadata": {},
   "outputs": [
    {
     "data": {
      "text/plain": [
       "False"
      ]
     },
     "execution_count": 14,
     "metadata": {},
     "output_type": "execute_result"
    }
   ],
   "source": [
    "None == False"
   ]
  },
  {
   "cell_type": "code",
   "execution_count": 15,
   "id": "13100394",
   "metadata": {},
   "outputs": [],
   "source": [
    "x = None\n",
    "y = None"
   ]
  },
  {
   "cell_type": "code",
   "execution_count": 16,
   "id": "f905b751",
   "metadata": {},
   "outputs": [
    {
     "data": {
      "text/plain": [
       "True"
      ]
     },
     "execution_count": 16,
     "metadata": {},
     "output_type": "execute_result"
    }
   ],
   "source": [
    "x == y"
   ]
  },
  {
   "cell_type": "code",
   "execution_count": 17,
   "id": "f9455f51",
   "metadata": {},
   "outputs": [],
   "source": [
    "# Void functions that do not return anything will return a None object automatically. "
   ]
  },
  {
   "cell_type": "code",
   "execution_count": 18,
   "id": "c31a762e",
   "metadata": {},
   "outputs": [],
   "source": [
    "def a():\n",
    "    a = 1\n",
    "    b = 2\n",
    "    c = a + b\n",
    "    \n",
    "x = a()"
   ]
  },
  {
   "cell_type": "code",
   "execution_count": 19,
   "id": "288f04b7",
   "metadata": {},
   "outputs": [
    {
     "name": "stdout",
     "output_type": "stream",
     "text": [
      "None\n"
     ]
    }
   ],
   "source": [
    "print(x)"
   ]
  },
  {
   "cell_type": "code",
   "execution_count": 23,
   "id": "f0e4e625",
   "metadata": {},
   "outputs": [
    {
     "name": "stdout",
     "output_type": "stream",
     "text": [
      "None\n"
     ]
    }
   ],
   "source": [
    "def improper_return_function(a):\n",
    "    if (a % 2) == 0:\n",
    "        return True\n",
    "\n",
    "x = improper_return_function(3)\n",
    "print(x)"
   ]
  },
  {
   "cell_type": "code",
   "execution_count": 24,
   "id": "63a340be",
   "metadata": {},
   "outputs": [],
   "source": [
    "# 3%2 == 1, so it returns nothing"
   ]
  },
  {
   "cell_type": "markdown",
   "id": "24d5d2a0",
   "metadata": {},
   "source": [
    "# and, or , not"
   ]
  },
  {
   "cell_type": "raw",
   "id": "f2ecad2a",
   "metadata": {},
   "source": [
    "and, or, not are the logical operators in Python. and will result into True only if both the operands are True"
   ]
  },
  {
   "cell_type": "code",
   "execution_count": 25,
   "id": "3331057a",
   "metadata": {},
   "outputs": [
    {
     "data": {
      "text/plain": [
       "True"
      ]
     },
     "execution_count": 25,
     "metadata": {},
     "output_type": "execute_result"
    }
   ],
   "source": [
    "True and True # 1*1 =1"
   ]
  },
  {
   "cell_type": "code",
   "execution_count": 26,
   "id": "e07dd9a7",
   "metadata": {},
   "outputs": [
    {
     "data": {
      "text/plain": [
       "False"
      ]
     },
     "execution_count": 26,
     "metadata": {},
     "output_type": "execute_result"
    }
   ],
   "source": [
    "True and False # 1 * 0 = 0 "
   ]
  },
  {
   "cell_type": "code",
   "execution_count": 27,
   "id": "de059026",
   "metadata": {},
   "outputs": [
    {
     "data": {
      "text/plain": [
       "True"
      ]
     },
     "execution_count": 27,
     "metadata": {},
     "output_type": "execute_result"
    }
   ],
   "source": [
    "not False"
   ]
  },
  {
   "cell_type": "markdown",
   "id": "5181119b",
   "metadata": {},
   "source": [
    "# as"
   ]
  },
  {
   "cell_type": "raw",
   "id": "2590b544",
   "metadata": {},
   "source": [
    "as is used to create an alias while importing a module. It means giving a different name (user-defined) to a module while importing it."
   ]
  },
  {
   "cell_type": "code",
   "execution_count": 28,
   "id": "8049f1a0",
   "metadata": {},
   "outputs": [],
   "source": [
    "import math as mymath"
   ]
  },
  {
   "cell_type": "code",
   "execution_count": 29,
   "id": "d81adf5d",
   "metadata": {},
   "outputs": [
    {
     "data": {
      "text/plain": [
       "1.2246467991473532e-16"
      ]
     },
     "execution_count": 29,
     "metadata": {},
     "output_type": "execute_result"
    }
   ],
   "source": [
    "mymath.sin(mymath.pi) # we have used 'as' and name math as mymath and calculated sin(pi)"
   ]
  },
  {
   "cell_type": "markdown",
   "id": "4e88aa73",
   "metadata": {},
   "source": [
    "# assert"
   ]
  },
  {
   "cell_type": "code",
   "execution_count": 30,
   "id": "3615a8d6",
   "metadata": {},
   "outputs": [],
   "source": [
    "# assert is used for debugging purposes"
   ]
  },
  {
   "cell_type": "code",
   "execution_count": 31,
   "id": "414d9f50",
   "metadata": {},
   "outputs": [],
   "source": [
    "# If the condition is true, nothing happens. But if the condition is false, AssertionError is raised."
   ]
  },
  {
   "cell_type": "code",
   "execution_count": 32,
   "id": "ef4f7dc4",
   "metadata": {},
   "outputs": [],
   "source": [
    "a = 4"
   ]
  },
  {
   "cell_type": "code",
   "execution_count": 33,
   "id": "46c3b951",
   "metadata": {},
   "outputs": [],
   "source": [
    "assert a < 5"
   ]
  },
  {
   "cell_type": "code",
   "execution_count": 34,
   "id": "907d7342",
   "metadata": {},
   "outputs": [
    {
     "ename": "AssertionError",
     "evalue": "",
     "output_type": "error",
     "traceback": [
      "\u001b[0;31m---------------------------------------------------------------------------\u001b[0m",
      "\u001b[0;31mAssertionError\u001b[0m                            Traceback (most recent call last)",
      "Input \u001b[0;32mIn [34]\u001b[0m, in \u001b[0;36m<cell line: 1>\u001b[0;34m()\u001b[0m\n\u001b[0;32m----> 1\u001b[0m \u001b[38;5;28;01massert\u001b[39;00m a \u001b[38;5;241m>\u001b[39m \u001b[38;5;241m5\u001b[39m\n",
      "\u001b[0;31mAssertionError\u001b[0m: "
     ]
    }
   ],
   "source": [
    "assert a > 5"
   ]
  },
  {
   "cell_type": "code",
   "execution_count": 35,
   "id": "a5259750",
   "metadata": {},
   "outputs": [
    {
     "ename": "AssertionError",
     "evalue": "The value is smalled than 5",
     "output_type": "error",
     "traceback": [
      "\u001b[0;31m---------------------------------------------------------------------------\u001b[0m",
      "\u001b[0;31mAssertionError\u001b[0m                            Traceback (most recent call last)",
      "Input \u001b[0;32mIn [35]\u001b[0m, in \u001b[0;36m<cell line: 1>\u001b[0;34m()\u001b[0m\n\u001b[0;32m----> 1\u001b[0m \u001b[38;5;28;01massert\u001b[39;00m a \u001b[38;5;241m>\u001b[39m \u001b[38;5;241m5\u001b[39m, \u001b[38;5;124m\"\u001b[39m\u001b[38;5;124mThe value is smalled than 5\u001b[39m\u001b[38;5;124m\"\u001b[39m\n",
      "\u001b[0;31mAssertionError\u001b[0m: The value is smalled than 5"
     ]
    }
   ],
   "source": [
    "assert a > 5, \"The value is smalled than 5\" # with a message"
   ]
  },
  {
   "cell_type": "markdown",
   "id": "d282858a",
   "metadata": {},
   "source": [
    "# break, continue"
   ]
  },
  {
   "cell_type": "raw",
   "id": "fe387d22",
   "metadata": {},
   "source": [
    "break and continue are used inside for and while loops to alter their normal behavior."
   ]
  },
  {
   "cell_type": "raw",
   "id": "49954f79",
   "metadata": {},
   "source": [
    "break will end the smallest loop it is in and control flows to the statement immediately below the loop. \n",
    "continue causes to end the current iteration of the loop, but not the whole loop."
   ]
  },
  {
   "cell_type": "code",
   "execution_count": 46,
   "id": "537379fa",
   "metadata": {},
   "outputs": [
    {
     "name": "stdout",
     "output_type": "stream",
     "text": [
      "0\n",
      "1\n",
      "2\n",
      "3\n",
      "4\n"
     ]
    }
   ],
   "source": [
    "for i in range(10):\n",
    "    if i == 5:\n",
    "        break\n",
    "    print(i)"
   ]
  },
  {
   "cell_type": "code",
   "execution_count": 47,
   "id": "a16c0583",
   "metadata": {},
   "outputs": [
    {
     "name": "stdout",
     "output_type": "stream",
     "text": [
      "0\n",
      "1\n",
      "2\n",
      "3\n",
      "4\n",
      "6\n",
      "7\n",
      "8\n",
      "9\n"
     ]
    }
   ],
   "source": [
    "for i in range(10):\n",
    "    if i == 5:\n",
    "        continue\n",
    "    print(i)"
   ]
  },
  {
   "cell_type": "markdown",
   "id": "164d7e23",
   "metadata": {},
   "source": [
    "# class"
   ]
  },
  {
   "cell_type": "raw",
   "id": "57d84de4",
   "metadata": {},
   "source": [
    "Class is a collection of related attributes and methods that try to represent a real-world situation. This idea of putting data and functions together in a class is central to the concept of object-oriented programming (OOP)."
   ]
  },
  {
   "cell_type": "code",
   "execution_count": 49,
   "id": "ca165ba1",
   "metadata": {},
   "outputs": [],
   "source": [
    "class a:\n",
    "    def x():\n",
    "        a = 2\n",
    "        b = 3\n",
    "        c = a + b"
   ]
  },
  {
   "cell_type": "markdown",
   "id": "44370ada",
   "metadata": {},
   "source": [
    "# def"
   ]
  },
  {
   "cell_type": "raw",
   "id": "446e5d03",
   "metadata": {},
   "source": [
    "def is used to define a user-defined function."
   ]
  },
  {
   "cell_type": "markdown",
   "id": "eb8f846f",
   "metadata": {},
   "source": [
    "# del"
   ]
  },
  {
   "cell_type": "raw",
   "id": "823f392f",
   "metadata": {},
   "source": [
    "del is used to delete the reference to an object. Everything is object in Python."
   ]
  },
  {
   "cell_type": "code",
   "execution_count": 50,
   "id": "34ca4d3c",
   "metadata": {},
   "outputs": [],
   "source": [
    "a = b = c = 5"
   ]
  },
  {
   "cell_type": "code",
   "execution_count": 51,
   "id": "068e727a",
   "metadata": {},
   "outputs": [],
   "source": [
    "del a"
   ]
  },
  {
   "cell_type": "code",
   "execution_count": 52,
   "id": "7c62da5f",
   "metadata": {},
   "outputs": [
    {
     "ename": "NameError",
     "evalue": "name 'a' is not defined",
     "output_type": "error",
     "traceback": [
      "\u001b[0;31m---------------------------------------------------------------------------\u001b[0m",
      "\u001b[0;31mNameError\u001b[0m                                 Traceback (most recent call last)",
      "Input \u001b[0;32mIn [52]\u001b[0m, in \u001b[0;36m<cell line: 1>\u001b[0;34m()\u001b[0m\n\u001b[0;32m----> 1\u001b[0m \u001b[43ma\u001b[49m\n",
      "\u001b[0;31mNameError\u001b[0m: name 'a' is not defined"
     ]
    }
   ],
   "source": [
    "a"
   ]
  },
  {
   "cell_type": "code",
   "execution_count": 53,
   "id": "eab5f39c",
   "metadata": {},
   "outputs": [
    {
     "data": {
      "text/plain": [
       "5"
      ]
     },
     "execution_count": 53,
     "metadata": {},
     "output_type": "execute_result"
    }
   ],
   "source": [
    "b"
   ]
  },
  {
   "cell_type": "raw",
   "id": "34cb1a72",
   "metadata": {},
   "source": [
    "Here we can see that the reference of the variable a was deleted. So, it is no longer defined. But b still exists."
   ]
  },
  {
   "cell_type": "markdown",
   "id": "b1ac1a9f",
   "metadata": {},
   "source": [
    "# if, else, elif"
   ]
  },
  {
   "cell_type": "code",
   "execution_count": 54,
   "id": "5963823e",
   "metadata": {},
   "outputs": [],
   "source": [
    "def func(a):\n",
    "    if a == 1:\n",
    "        print(\"One\")\n",
    "    elif a == 2:\n",
    "        print(\"Two\")\n",
    "    else:\n",
    "        print(\"Something else\")"
   ]
  },
  {
   "cell_type": "code",
   "execution_count": 55,
   "id": "ee03e928",
   "metadata": {},
   "outputs": [
    {
     "name": "stdout",
     "output_type": "stream",
     "text": [
      "One\n"
     ]
    }
   ],
   "source": [
    "x = func(1)"
   ]
  },
  {
   "cell_type": "code",
   "execution_count": 56,
   "id": "cb1c96cb",
   "metadata": {},
   "outputs": [
    {
     "name": "stdout",
     "output_type": "stream",
     "text": [
      "Two\n"
     ]
    }
   ],
   "source": [
    "x = func(2)"
   ]
  },
  {
   "cell_type": "code",
   "execution_count": 57,
   "id": "5adea834",
   "metadata": {},
   "outputs": [
    {
     "name": "stdout",
     "output_type": "stream",
     "text": [
      "Something else\n"
     ]
    }
   ],
   "source": [
    "x = func(5)"
   ]
  },
  {
   "cell_type": "markdown",
   "id": "b7b49b52",
   "metadata": {},
   "source": [
    "# except, raise, try"
   ]
  },
  {
   "cell_type": "raw",
   "id": "6eeba369",
   "metadata": {},
   "source": [
    "except, raise, try are used with exceptions in Python.\n",
    "\n",
    "Exceptions are basically errors that suggests something went wrong while executing our program. IOError, ValueError, ZeroDivisionError, ImportError, NameError, TypeError etc. are few examples of exception in Python. try...except blocks are used to catch exceptions in Python.\n",
    "\n",
    "We can raise an exception explicitly with the raise keyword."
   ]
  },
  {
   "cell_type": "code",
   "execution_count": 58,
   "id": "e610684b",
   "metadata": {},
   "outputs": [
    {
     "name": "stdout",
     "output_type": "stream",
     "text": [
      "0.1\n",
      "Exception caught\n",
      "None\n"
     ]
    }
   ],
   "source": [
    "def func(a):\n",
    "    try:\n",
    "        r = 1/a\n",
    "    except:\n",
    "        print(\"Exception caught\")\n",
    "        return \n",
    "    return r\n",
    "\n",
    "print(func(10))\n",
    "print(func(0))"
   ]
  },
  {
   "cell_type": "markdown",
   "id": "5af1620b",
   "metadata": {},
   "source": [
    "# finally"
   ]
  },
  {
   "cell_type": "raw",
   "id": "00b8c642",
   "metadata": {},
   "source": [
    "finally is used with try…except block to close up resources or file streams.\n",
    "\n",
    "Using finally ensures that the block of code inside it gets executed even if there is an unhandled exception"
   ]
  },
  {
   "cell_type": "raw",
   "id": "4b9f6041",
   "metadata": {},
   "source": [
    "try:\n",
    "    Try-block\n",
    "except exception1:\n",
    "    Exception1-block\n",
    "except exception2:\n",
    "    Exception2-block\n",
    "else:\n",
    "    Else-block\n",
    "finally:\n",
    "    Finally-block"
   ]
  },
  {
   "cell_type": "code",
   "execution_count": 62,
   "id": "f280acd1",
   "metadata": {},
   "outputs": [
    {
     "name": "stdout",
     "output_type": "stream",
     "text": [
      "Error\n"
     ]
    }
   ],
   "source": [
    "try:\n",
    "    a = 10\n",
    "    b = 0\n",
    "    \n",
    "    result = a / b\n",
    "    print(result)\n",
    "except:\n",
    "    print(\"Error\")"
   ]
  },
  {
   "cell_type": "code",
   "execution_count": 63,
   "id": "fb83c011",
   "metadata": {},
   "outputs": [
    {
     "name": "stdout",
     "output_type": "stream",
     "text": [
      "0.0\n"
     ]
    }
   ],
   "source": [
    "try:\n",
    "    a = 10\n",
    "    b = 0\n",
    "    \n",
    "    result = b / a\n",
    "    print(result)\n",
    "except:\n",
    "    print(\"Error\")"
   ]
  },
  {
   "cell_type": "code",
   "execution_count": 64,
   "id": "35f4ddf7",
   "metadata": {},
   "outputs": [
    {
     "name": "stdout",
     "output_type": "stream",
     "text": [
      "Error\n",
      "This is finally block\n"
     ]
    }
   ],
   "source": [
    "try:\n",
    "    a = 10\n",
    "    b = 0\n",
    "    \n",
    "    result = a / b\n",
    "    print(result)\n",
    "except:\n",
    "    print(\"Error\")\n",
    "finally:\n",
    "    print(\"This is finally block\")"
   ]
  },
  {
   "cell_type": "markdown",
   "id": "e8da4502",
   "metadata": {},
   "source": [
    "# for"
   ]
  },
  {
   "cell_type": "raw",
   "id": "866841c1",
   "metadata": {},
   "source": [
    "for is used for looping. Generally we use for when we know the number of times we want to loop."
   ]
  },
  {
   "cell_type": "code",
   "execution_count": 65,
   "id": "5b58ed9f",
   "metadata": {},
   "outputs": [
    {
     "name": "stdout",
     "output_type": "stream",
     "text": [
      "arc\n",
      "mani\n",
      "thiru\n",
      "kalp\n"
     ]
    }
   ],
   "source": [
    "names = ['arc','mani','thiru','kalp']\n",
    "\n",
    "for i in names:\n",
    "    print(i)"
   ]
  },
  {
   "cell_type": "markdown",
   "id": "d81c8a19",
   "metadata": {},
   "source": [
    "# from, import"
   ]
  },
  {
   "cell_type": "raw",
   "id": "934a47d8",
   "metadata": {},
   "source": [
    "import keyword is used to import modules into the current namespace. from…import is used to import specific attributes or functions into the current namespace."
   ]
  },
  {
   "cell_type": "code",
   "execution_count": 66,
   "id": "da2db9fe",
   "metadata": {},
   "outputs": [],
   "source": [
    "import math"
   ]
  },
  {
   "cell_type": "code",
   "execution_count": 67,
   "id": "a83285db",
   "metadata": {},
   "outputs": [],
   "source": [
    "from math import cos"
   ]
  },
  {
   "cell_type": "code",
   "execution_count": 68,
   "id": "b06e27f1",
   "metadata": {},
   "outputs": [
    {
     "data": {
      "text/plain": [
       "-1.0"
      ]
     },
     "execution_count": 68,
     "metadata": {},
     "output_type": "execute_result"
    }
   ],
   "source": [
    "math.cos(math.pi) # cos(pi)"
   ]
  },
  {
   "cell_type": "markdown",
   "id": "f0a1dfcc",
   "metadata": {},
   "source": [
    "# global"
   ]
  },
  {
   "cell_type": "raw",
   "id": "144ccc78",
   "metadata": {},
   "source": [
    "global is used to declare that a variable inside the function is global (outside the function).\n",
    "\n",
    "If we need to read the value of a global variable, it is not necessary to define it as global."
   ]
  },
  {
   "cell_type": "code",
   "execution_count": 69,
   "id": "3e1a7303",
   "metadata": {},
   "outputs": [],
   "source": [
    "x = 10\n",
    "def a():\n",
    "    print(x)\n",
    "def b():\n",
    "    global x\n",
    "    x = 5"
   ]
  },
  {
   "cell_type": "code",
   "execution_count": 70,
   "id": "79469ab7",
   "metadata": {},
   "outputs": [
    {
     "name": "stdout",
     "output_type": "stream",
     "text": [
      "10\n"
     ]
    }
   ],
   "source": [
    "a()\n",
    "b()"
   ]
  },
  {
   "cell_type": "markdown",
   "id": "3d8799d2",
   "metadata": {},
   "source": [
    "# in"
   ]
  },
  {
   "cell_type": "raw",
   "id": "494a3ee8",
   "metadata": {},
   "source": [
    "in is used to test if a sequence (list, tuple, string etc.) contains a value. It returns True if the value is present, else it returns False."
   ]
  },
  {
   "cell_type": "code",
   "execution_count": 71,
   "id": "92f5abe2",
   "metadata": {},
   "outputs": [],
   "source": [
    "x = [1,2,3,4,5]"
   ]
  },
  {
   "cell_type": "code",
   "execution_count": 72,
   "id": "83f26160",
   "metadata": {},
   "outputs": [
    {
     "data": {
      "text/plain": [
       "True"
      ]
     },
     "execution_count": 72,
     "metadata": {},
     "output_type": "execute_result"
    }
   ],
   "source": [
    "4 in x"
   ]
  },
  {
   "cell_type": "code",
   "execution_count": 73,
   "id": "df0ab8cb",
   "metadata": {},
   "outputs": [
    {
     "data": {
      "text/plain": [
       "False"
      ]
     },
     "execution_count": 73,
     "metadata": {},
     "output_type": "execute_result"
    }
   ],
   "source": [
    "10 in x"
   ]
  },
  {
   "cell_type": "markdown",
   "id": "2bbe2e39",
   "metadata": {},
   "source": [
    "# is"
   ]
  },
  {
   "cell_type": "raw",
   "id": "04c46bf1",
   "metadata": {},
   "source": [
    "is is used in Python for testing object identity. While the == operator is used to test if two variables are equal or not, is is used to test if the two variables refer to the same object."
   ]
  },
  {
   "cell_type": "code",
   "execution_count": 74,
   "id": "9fa0620e",
   "metadata": {},
   "outputs": [
    {
     "data": {
      "text/plain": [
       "True"
      ]
     },
     "execution_count": 74,
     "metadata": {},
     "output_type": "execute_result"
    }
   ],
   "source": [
    "True is True"
   ]
  },
  {
   "cell_type": "code",
   "execution_count": 75,
   "id": "228546c9",
   "metadata": {},
   "outputs": [
    {
     "data": {
      "text/plain": [
       "False"
      ]
     },
     "execution_count": 75,
     "metadata": {},
     "output_type": "execute_result"
    }
   ],
   "source": [
    "True is False"
   ]
  },
  {
   "cell_type": "code",
   "execution_count": 76,
   "id": "db0cfc6c",
   "metadata": {},
   "outputs": [
    {
     "data": {
      "text/plain": [
       "True"
      ]
     },
     "execution_count": 76,
     "metadata": {},
     "output_type": "execute_result"
    }
   ],
   "source": [
    "[] == []"
   ]
  },
  {
   "cell_type": "code",
   "execution_count": 77,
   "id": "a30a972e",
   "metadata": {},
   "outputs": [
    {
     "data": {
      "text/plain": [
       "False"
      ]
     },
     "execution_count": 77,
     "metadata": {},
     "output_type": "execute_result"
    }
   ],
   "source": [
    "[] is []"
   ]
  },
  {
   "cell_type": "markdown",
   "id": "32a6de2b",
   "metadata": {},
   "source": [
    "# lambda"
   ]
  },
  {
   "cell_type": "raw",
   "id": "5faefbba",
   "metadata": {},
   "source": [
    "lambda is used to create an anonymous function (function with no name). It is an inline function that does not contain a return statement. It consists of an expression that is evaluated and returned. "
   ]
  },
  {
   "cell_type": "code",
   "execution_count": 81,
   "id": "17358b3a",
   "metadata": {},
   "outputs": [
    {
     "name": "stdout",
     "output_type": "stream",
     "text": [
      "0\n",
      "2\n",
      "4\n",
      "6\n",
      "8\n",
      "10\n",
      "12\n",
      "14\n",
      "16\n",
      "18\n"
     ]
    }
   ],
   "source": [
    "a = lambda x:x * 2\n",
    "\n",
    "for i in range(10):\n",
    "    print(a(i))"
   ]
  },
  {
   "cell_type": "code",
   "execution_count": 83,
   "id": "7d033712",
   "metadata": {},
   "outputs": [],
   "source": [
    "a = lambda : print(\"Hello\")"
   ]
  },
  {
   "cell_type": "code",
   "execution_count": 84,
   "id": "47fae8f8",
   "metadata": {},
   "outputs": [
    {
     "name": "stdout",
     "output_type": "stream",
     "text": [
      "Hello\n"
     ]
    }
   ],
   "source": [
    "a()"
   ]
  },
  {
   "cell_type": "markdown",
   "id": "5ac01dc9",
   "metadata": {},
   "source": [
    "# pass"
   ]
  },
  {
   "cell_type": "raw",
   "id": "d18900bd",
   "metadata": {},
   "source": [
    "pass is a null statement in Python. Nothing happens when it is executed. It is used as a placeholder."
   ]
  },
  {
   "cell_type": "code",
   "execution_count": 85,
   "id": "c017feb3",
   "metadata": {},
   "outputs": [],
   "source": [
    "class a:\n",
    "    pass"
   ]
  },
  {
   "cell_type": "markdown",
   "id": "db3fcb42",
   "metadata": {},
   "source": [
    "# return"
   ]
  },
  {
   "cell_type": "raw",
   "id": "7246ebed",
   "metadata": {},
   "source": [
    "return statement is used inside a function to exit it and return a value.\n",
    "\n",
    "If we do not return a value explicitly, None is returned automatically. "
   ]
  },
  {
   "cell_type": "code",
   "execution_count": 89,
   "id": "adab873b",
   "metadata": {},
   "outputs": [
    {
     "name": "stdout",
     "output_type": "stream",
     "text": [
      "10\n",
      "None\n"
     ]
    }
   ],
   "source": [
    "def func():\n",
    "    a = 10\n",
    "    return a\n",
    "\n",
    "def func2():\n",
    "    a = 10\n",
    "    \n",
    "print(func())\n",
    "print(func2())"
   ]
  },
  {
   "cell_type": "markdown",
   "id": "aabbf485",
   "metadata": {},
   "source": [
    "# <font color='red'> Python Comments"
   ]
  },
  {
   "cell_type": "raw",
   "id": "e526b433",
   "metadata": {},
   "source": [
    "In computer programming, comments are hints that we use to make our code more understandable."
   ]
  },
  {
   "cell_type": "raw",
   "id": "b2e80e3c",
   "metadata": {},
   "source": [
    "Types of Comments in Python\n",
    "In Python, there are two types of comments:\n",
    "\n",
    "single-line comment\n",
    "multi-line comment"
   ]
  },
  {
   "cell_type": "code",
   "execution_count": 91,
   "id": "df3bfbc2",
   "metadata": {},
   "outputs": [],
   "source": [
    "# single-line comment"
   ]
  },
  {
   "cell_type": "code",
   "execution_count": 90,
   "id": "bf69a966",
   "metadata": {},
   "outputs": [
    {
     "name": "stdout",
     "output_type": "stream",
     "text": [
      "Archana\n"
     ]
    }
   ],
   "source": [
    "# create a variable\n",
    "name = 'Archana'\n",
    "\n",
    "# print the value\n",
    "print(name)"
   ]
  },
  {
   "cell_type": "code",
   "execution_count": 92,
   "id": "2cada4e6",
   "metadata": {},
   "outputs": [],
   "source": [
    "# multi-line comment"
   ]
  },
  {
   "cell_type": "code",
   "execution_count": 93,
   "id": "fbc3fe46",
   "metadata": {},
   "outputs": [
    {
     "data": {
      "text/plain": [
       "'Hi hello'"
      ]
     },
     "execution_count": 93,
     "metadata": {},
     "output_type": "execute_result"
    }
   ],
   "source": [
    "\"\"\"Hi hello\"\"\""
   ]
  },
  {
   "cell_type": "code",
   "execution_count": 94,
   "id": "3c255e43",
   "metadata": {},
   "outputs": [
    {
     "data": {
      "text/plain": [
       "' This is also a\\nperfect example of\\nmulti-line comments '"
      ]
     },
     "execution_count": 94,
     "metadata": {},
     "output_type": "execute_result"
    }
   ],
   "source": [
    "''' This is also a\n",
    "perfect example of\n",
    "multi-line comments '''"
   ]
  },
  {
   "cell_type": "markdown",
   "id": "369bc72e",
   "metadata": {},
   "source": [
    "# <font color='red'> Python Variables"
   ]
  },
  {
   "cell_type": "raw",
   "id": "7c99694c",
   "metadata": {},
   "source": [
    "In programming, a variable is a container (storage area) to hold data. For example,\n",
    "\n",
    "number = 10\n",
    "\n",
    "Here, number is the variable storing the value 10."
   ]
  },
  {
   "cell_type": "code",
   "execution_count": 95,
   "id": "c34a3bd7",
   "metadata": {},
   "outputs": [],
   "source": [
    "a = 10"
   ]
  },
  {
   "cell_type": "code",
   "execution_count": 96,
   "id": "ddbb8317",
   "metadata": {},
   "outputs": [
    {
     "data": {
      "text/plain": [
       "140408118241872"
      ]
     },
     "execution_count": 96,
     "metadata": {},
     "output_type": "execute_result"
    }
   ],
   "source": [
    "id(a)"
   ]
  },
  {
   "cell_type": "code",
   "execution_count": 97,
   "id": "07f16876",
   "metadata": {},
   "outputs": [],
   "source": [
    "# now changing the value"
   ]
  },
  {
   "cell_type": "code",
   "execution_count": 98,
   "id": "b0c7c553",
   "metadata": {},
   "outputs": [],
   "source": [
    "a = 15"
   ]
  },
  {
   "cell_type": "code",
   "execution_count": 99,
   "id": "9735c68a",
   "metadata": {},
   "outputs": [
    {
     "data": {
      "text/plain": [
       "140408118242032"
      ]
     },
     "execution_count": 99,
     "metadata": {},
     "output_type": "execute_result"
    }
   ],
   "source": [
    "id(a)"
   ]
  },
  {
   "cell_type": "code",
   "execution_count": 101,
   "id": "887b59ea",
   "metadata": {},
   "outputs": [],
   "source": [
    "a = 10"
   ]
  },
  {
   "cell_type": "code",
   "execution_count": 102,
   "id": "9e30fb3c",
   "metadata": {},
   "outputs": [
    {
     "data": {
      "text/plain": [
       "140408118241872"
      ]
     },
     "execution_count": 102,
     "metadata": {},
     "output_type": "execute_result"
    }
   ],
   "source": [
    "id(a)"
   ]
  },
  {
   "cell_type": "code",
   "execution_count": 103,
   "id": "8746c03b",
   "metadata": {},
   "outputs": [],
   "source": [
    "# see for same number it utilize the same memory"
   ]
  },
  {
   "cell_type": "code",
   "execution_count": 104,
   "id": "5ec3b37b",
   "metadata": {},
   "outputs": [],
   "source": [
    "x = 10"
   ]
  },
  {
   "cell_type": "code",
   "execution_count": 105,
   "id": "7e52e1a1",
   "metadata": {},
   "outputs": [
    {
     "data": {
      "text/plain": [
       "140408118241872"
      ]
     },
     "execution_count": 105,
     "metadata": {},
     "output_type": "execute_result"
    }
   ],
   "source": [
    "id(x)"
   ]
  },
  {
   "cell_type": "code",
   "execution_count": 107,
   "id": "bbf12b81",
   "metadata": {},
   "outputs": [],
   "source": [
    "#  Assigning multiple values to multiple variables"
   ]
  },
  {
   "cell_type": "code",
   "execution_count": 108,
   "id": "8033282d",
   "metadata": {},
   "outputs": [],
   "source": [
    "a,b,c = 3,5.6,6j"
   ]
  },
  {
   "cell_type": "code",
   "execution_count": 109,
   "id": "29a2ee3e",
   "metadata": {},
   "outputs": [
    {
     "data": {
      "text/plain": [
       "3"
      ]
     },
     "execution_count": 109,
     "metadata": {},
     "output_type": "execute_result"
    }
   ],
   "source": [
    "a"
   ]
  },
  {
   "cell_type": "code",
   "execution_count": 110,
   "id": "e2f5248e",
   "metadata": {},
   "outputs": [
    {
     "data": {
      "text/plain": [
       "5.6"
      ]
     },
     "execution_count": 110,
     "metadata": {},
     "output_type": "execute_result"
    }
   ],
   "source": [
    "b"
   ]
  },
  {
   "cell_type": "code",
   "execution_count": 111,
   "id": "425d5621",
   "metadata": {},
   "outputs": [
    {
     "data": {
      "text/plain": [
       "6j"
      ]
     },
     "execution_count": 111,
     "metadata": {},
     "output_type": "execute_result"
    }
   ],
   "source": [
    "c"
   ]
  },
  {
   "cell_type": "code",
   "execution_count": 115,
   "id": "fe6a2557",
   "metadata": {},
   "outputs": [],
   "source": [
    "# Casting"
   ]
  },
  {
   "cell_type": "code",
   "execution_count": 116,
   "id": "441d3f46",
   "metadata": {},
   "outputs": [],
   "source": [
    "x = str(3)"
   ]
  },
  {
   "cell_type": "code",
   "execution_count": 117,
   "id": "df2e634b",
   "metadata": {},
   "outputs": [
    {
     "data": {
      "text/plain": [
       "str"
      ]
     },
     "execution_count": 117,
     "metadata": {},
     "output_type": "execute_result"
    }
   ],
   "source": [
    "type(x)"
   ]
  },
  {
   "cell_type": "code",
   "execution_count": 118,
   "id": "769db8bc",
   "metadata": {},
   "outputs": [],
   "source": [
    "z = float(3)"
   ]
  },
  {
   "cell_type": "code",
   "execution_count": 119,
   "id": "e987608e",
   "metadata": {},
   "outputs": [
    {
     "data": {
      "text/plain": [
       "float"
      ]
     },
     "execution_count": 119,
     "metadata": {},
     "output_type": "execute_result"
    }
   ],
   "source": [
    "type(z)"
   ]
  },
  {
   "cell_type": "code",
   "execution_count": 120,
   "id": "21f36438",
   "metadata": {},
   "outputs": [
    {
     "data": {
      "text/plain": [
       "complex"
      ]
     },
     "execution_count": 120,
     "metadata": {},
     "output_type": "execute_result"
    }
   ],
   "source": [
    "type(c)"
   ]
  },
  {
   "cell_type": "code",
   "execution_count": 121,
   "id": "6eae57b5",
   "metadata": {},
   "outputs": [],
   "source": [
    "# Get the Type"
   ]
  },
  {
   "cell_type": "code",
   "execution_count": 122,
   "id": "162dd476",
   "metadata": {},
   "outputs": [
    {
     "name": "stdout",
     "output_type": "stream",
     "text": [
      "<class 'int'>\n",
      "<class 'str'>\n"
     ]
    }
   ],
   "source": [
    "x = 5\n",
    "y = \"John\"\n",
    "print(type(x))\n",
    "print(type(y))"
   ]
  },
  {
   "cell_type": "code",
   "execution_count": 123,
   "id": "96e708f0",
   "metadata": {},
   "outputs": [
    {
     "ename": "TypeError",
     "evalue": "unsupported operand type(s) for +: 'int' and 'str'",
     "output_type": "error",
     "traceback": [
      "\u001b[0;31m---------------------------------------------------------------------------\u001b[0m",
      "\u001b[0;31mTypeError\u001b[0m                                 Traceback (most recent call last)",
      "Input \u001b[0;32mIn [123]\u001b[0m, in \u001b[0;36m<cell line: 1>\u001b[0;34m()\u001b[0m\n\u001b[0;32m----> 1\u001b[0m \u001b[38;5;28mprint\u001b[39m(\u001b[43mx\u001b[49m\u001b[43m \u001b[49m\u001b[38;5;241;43m+\u001b[39;49m\u001b[43m \u001b[49m\u001b[43my\u001b[49m)\n",
      "\u001b[0;31mTypeError\u001b[0m: unsupported operand type(s) for +: 'int' and 'str'"
     ]
    }
   ],
   "source": [
    "print(x + y) # string and int cannot be added"
   ]
  }
 ],
 "metadata": {
  "kernelspec": {
   "display_name": "Python 3 (ipykernel)",
   "language": "python",
   "name": "python3"
  },
  "language_info": {
   "codemirror_mode": {
    "name": "ipython",
    "version": 3
   },
   "file_extension": ".py",
   "mimetype": "text/x-python",
   "name": "python",
   "nbconvert_exporter": "python",
   "pygments_lexer": "ipython3",
   "version": "3.9.7"
  }
 },
 "nbformat": 4,
 "nbformat_minor": 5
}
